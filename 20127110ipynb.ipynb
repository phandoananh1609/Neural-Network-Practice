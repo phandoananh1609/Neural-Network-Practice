{
  "nbformat": 4,
  "nbformat_minor": 0,
  "metadata": {
    "colab": {
      "provenance": [],
      "toc_visible": true
    },
    "kernelspec": {
      "name": "python3",
      "display_name": "Python 3"
    },
    "language_info": {
      "name": "python"
    }
  },
  "cells": [
    {
      "cell_type": "code",
      "source": [
        "!pip install pandas"
      ],
      "metadata": {
        "colab": {
          "base_uri": "https://localhost:8080/"
        },
        "id": "KWFzVqhAiOG9",
        "outputId": "8a8a5101-d0a7-408e-823f-bc981b861167"
      },
      "execution_count": 12,
      "outputs": [
        {
          "output_type": "stream",
          "name": "stdout",
          "text": [
            "Looking in indexes: https://pypi.org/simple, https://us-python.pkg.dev/colab-wheels/public/simple/\n",
            "Requirement already satisfied: pandas in /usr/local/lib/python3.9/dist-packages (1.4.4)\n",
            "Requirement already satisfied: pytz>=2020.1 in /usr/local/lib/python3.9/dist-packages (from pandas) (2022.7.1)\n",
            "Requirement already satisfied: numpy>=1.18.5 in /usr/local/lib/python3.9/dist-packages (from pandas) (1.22.4)\n",
            "Requirement already satisfied: python-dateutil>=2.8.1 in /usr/local/lib/python3.9/dist-packages (from pandas) (2.8.2)\n",
            "Requirement already satisfied: six>=1.5 in /usr/local/lib/python3.9/dist-packages (from python-dateutil>=2.8.1->pandas) (1.16.0)\n"
          ]
        }
      ]
    },
    {
      "cell_type": "markdown",
      "source": [
        "1. Tải dữ liệu MNIST và Fashion MNIST bằng keras:\n",
        "\n",
        "---\n",
        "\n"
      ],
      "metadata": {
        "id": "Rnlq3HGdi9Ju"
      }
    },
    {
      "cell_type": "code",
      "execution_count": 4,
      "metadata": {
        "id": "1U41a_DvhkNE",
        "colab": {
          "base_uri": "https://localhost:8080/"
        },
        "outputId": "f0a78de2-1300-4f22-dfba-a0a838cc2c9f"
      },
      "outputs": [
        {
          "output_type": "stream",
          "name": "stdout",
          "text": [
            "Downloading data from https://storage.googleapis.com/tensorflow/tf-keras-datasets/mnist.npz\n",
            "11490434/11490434 [==============================] - 1s 0us/step\n",
            "Downloading data from https://storage.googleapis.com/tensorflow/tf-keras-datasets/train-labels-idx1-ubyte.gz\n",
            "29515/29515 [==============================] - 0s 0us/step\n",
            "Downloading data from https://storage.googleapis.com/tensorflow/tf-keras-datasets/train-images-idx3-ubyte.gz\n",
            "26421880/26421880 [==============================] - 1s 0us/step\n",
            "Downloading data from https://storage.googleapis.com/tensorflow/tf-keras-datasets/t10k-labels-idx1-ubyte.gz\n",
            "5148/5148 [==============================] - 0s 0us/step\n",
            "Downloading data from https://storage.googleapis.com/tensorflow/tf-keras-datasets/t10k-images-idx3-ubyte.gz\n",
            "4422102/4422102 [==============================] - 1s 0us/step\n"
          ]
        }
      ],
      "source": [
        "from keras.datasets import mnist, fashion_mnist\n",
        "import numpy as np\n",
        "\n",
        "# Load MNIST dataset\n",
        "(X_train_mnist, y_train_mnist), (X_test_mnist, y_test_mnist) = mnist.load_data()\n",
        "\n",
        "# Load Fashion MNIST dataset\n",
        "(X_train_fashion, y_train_fashion), (X_test_fashion, y_test_fashion) = fashion_mnist.load_data()\n",
        "\n"
      ]
    },
    {
      "cell_type": "code",
      "source": [
        "#MNIST preprocessing\n",
        "# Crop MNIST's images to 24x24\n",
        "X_train_crop = np.zeros((X_train_mnist.shape[0], 24, 24))\n",
        "X_test_crop = np.zeros((X_test_mnist.shape[0], 24, 24))\n",
        "for i in range(X_train_mnist.shape[0]):\n",
        "    X_train_crop[i] = X_train_mnist[i, 2:26, 2:26]\n",
        "for i in range(X_test_mnist.shape[0]):\n",
        "    X_test_crop[i] = X_test_mnist[i, 2:26, 2:26]\n",
        "\n",
        "\n",
        "# Convert images to black and white\n",
        "X_train_bw = np.zeros(X_train_crop.shape)\n",
        "X_test_bw = np.zeros(X_test_crop.shape)\n",
        "for i in range(X_train_crop.shape[0]):\n",
        "    X_train_bw[i] = np.where(X_train_crop[i] > 127, 1, 0)\n",
        "for i in range(X_test_crop.shape[0]):\n",
        "    X_test_bw[i] = np.where(X_test_crop[i] > 127, 1, 0)\n",
        "\n",
        "# Apply thresholding to images\n",
        "X_train_thresh = np.zeros(X_train_bw.shape)\n",
        "X_test_thresh = np.zeros(X_test_bw.shape)\n",
        "for i in range(X_train_bw.shape[0]):\n",
        "    X_train_thresh[i] = np.where(X_train_bw[i] > 0.5, 1, 0)\n",
        "for i in range(X_test_bw.shape[0]):\n",
        "    X_test_thresh[i] = np.where(X_test_bw[i] > 0.5, 1, 0)\n"
      ],
      "metadata": {
        "id": "Z1KVZRLC5jyA"
      },
      "execution_count": 5,
      "outputs": []
    },
    {
      "cell_type": "code",
      "source": [
        "#Fasion MNIST preprocessing\n",
        "from PIL import Image\n",
        "\n",
        "# Resize images to 24x24 and convert to grayscale\n",
        "X_train_gray = np.zeros((X_train_fashion.shape[0], 24, 24))\n",
        "X_test_gray = np.zeros((X_test_fashion.shape[0], 24, 24))\n",
        "for i in range(X_train_fashion.shape[0]):\n",
        "    img = Image.fromarray(X_train_fashion[i])\n",
        "    img = img.resize((24, 24), resample=Image.BILINEAR)\n",
        "    X_train_gray[i] = np.array(img.convert('L'))\n",
        "for i in range(X_test_fashion.shape[0]):\n",
        "    img = Image.fromarray(X_test_fashion[i])\n",
        "    img = img.resize((24, 24), resample=Image.BILINEAR)\n",
        "    X_test_gray[i] = np.array(img.convert('L'))\n",
        "\n",
        "# Apply thresholding to images\n",
        "X_train_thresh_fashion = np.zeros(X_train_gray.shape)\n",
        "X_test_thresh_fashion = np.zeros(X_test_gray.shape)\n",
        "for i in range(X_train_gray.shape[0]):\n",
        "    X_train_thresh_fashion[i] = np.where(X_train_gray[i] > 127, 1, 0)\n",
        "for i in range(X_test_gray.shape[0]):\n",
        "    X_test_thresh_fashion[i] = np.where(X_test_gray[i] > 127, 1, 0)\n"
      ],
      "metadata": {
        "id": "Aa63jqeJ5II7"
      },
      "execution_count": 6,
      "outputs": []
    },
    {
      "cell_type": "markdown",
      "source": [
        "2. Thiết kế một mạng neural network với 3 lớp, gồm 1 lớp input, 1 lớp ẩn và 1 lớp output:\n",
        "3. Thử Nghiệm với số lượng node ẩn là 100, 200, 500.\n",
        "4. Tăng số lượng lớp ẩn lên 3\n",
        "5. Kết luận và đề xuất best practice"
      ],
      "metadata": {
        "id": "McU1nBc3i_oY"
      }
    },
    {
      "cell_type": "code",
      "source": [
        "from tensorflow.keras.models import Sequential\n",
        "from tensorflow.keras.layers import Dense\n",
        "import keras\n",
        "import keras.utils\n",
        "from keras import utils as np_utils\n"
      ],
      "metadata": {
        "id": "CKNs7dyAiNOE"
      },
      "execution_count": 7,
      "outputs": []
    },
    {
      "cell_type": "code",
      "source": [
        "#MNIST\n",
        "# Tạo mô hình neural network\n",
        "model = keras.models.Sequential([\n",
        "    keras.layers.Flatten(input_shape=(24, 24)),\n",
        "    keras.layers.Dense(100, activation='relu'),\n",
        "    keras.layers.Dense(100, activation='relu'),\n",
        "    keras.layers.Dense(10, activation='softmax')\n",
        "])\n",
        "\n",
        "# Biên dịch mô hình\n",
        "model.compile(optimizer='adam',\n",
        "              loss='sparse_categorical_crossentropy',\n",
        "              metrics=['accuracy'])\n",
        "\n",
        "# Huấn luyện mô hình\n",
        "model.fit(X_train_thresh, y_train_mnist, epochs=10, batch_size=32, validation_split=0.1)\n",
        "\n",
        "# Đánh giá mô hình trên tập kiểm tra\n",
        "test_loss, test_acc = model.evaluate(X_test_thresh, y_test_mnist)\n",
        "print('Test accuracy:', test_acc)\n",
        "\n"
      ],
      "metadata": {
        "colab": {
          "base_uri": "https://localhost:8080/"
        },
        "id": "i4ufdNrRDHlT",
        "outputId": "e9774830-2d67-411b-c08b-473674748a23"
      },
      "execution_count": 16,
      "outputs": [
        {
          "output_type": "stream",
          "name": "stdout",
          "text": [
            "Epoch 1/10\n",
            "1688/1688 [==============================] - 7s 4ms/step - loss: 0.2782 - accuracy: 0.9181 - val_loss: 0.1390 - val_accuracy: 0.9613\n",
            "Epoch 2/10\n",
            "1688/1688 [==============================] - 8s 5ms/step - loss: 0.1164 - accuracy: 0.9644 - val_loss: 0.1046 - val_accuracy: 0.9687\n",
            "Epoch 3/10\n",
            "1688/1688 [==============================] - 5s 3ms/step - loss: 0.0786 - accuracy: 0.9759 - val_loss: 0.1068 - val_accuracy: 0.9688\n",
            "Epoch 4/10\n",
            "1688/1688 [==============================] - 6s 4ms/step - loss: 0.0589 - accuracy: 0.9810 - val_loss: 0.0916 - val_accuracy: 0.9725\n",
            "Epoch 5/10\n",
            "1688/1688 [==============================] - 5s 3ms/step - loss: 0.0424 - accuracy: 0.9862 - val_loss: 0.1099 - val_accuracy: 0.9713\n",
            "Epoch 6/10\n",
            "1688/1688 [==============================] - 5s 3ms/step - loss: 0.0338 - accuracy: 0.9889 - val_loss: 0.1075 - val_accuracy: 0.9755\n",
            "Epoch 7/10\n",
            "1688/1688 [==============================] - 5s 3ms/step - loss: 0.0288 - accuracy: 0.9901 - val_loss: 0.1074 - val_accuracy: 0.9752\n",
            "Epoch 8/10\n",
            "1688/1688 [==============================] - 5s 3ms/step - loss: 0.0230 - accuracy: 0.9924 - val_loss: 0.1224 - val_accuracy: 0.9717\n",
            "Epoch 9/10\n",
            "1688/1688 [==============================] - 6s 3ms/step - loss: 0.0191 - accuracy: 0.9938 - val_loss: 0.1067 - val_accuracy: 0.9770\n",
            "Epoch 10/10\n",
            "1688/1688 [==============================] - 5s 3ms/step - loss: 0.0160 - accuracy: 0.9946 - val_loss: 0.1193 - val_accuracy: 0.9770\n",
            "313/313 [==============================] - 1s 2ms/step - loss: 0.1241 - accuracy: 0.9734\n",
            "Test accuracy: 0.9733999967575073\n"
          ]
        }
      ]
    },
    {
      "cell_type": "code",
      "source": [
        "# Tạo mô hình neural network\n",
        "model = keras.models.Sequential([\n",
        "    keras.layers.Flatten(input_shape=(24, 24)),\n",
        "    keras.layers.Dense(100, activation='relu'),\n",
        "    keras.layers.Dense(100, activation='relu'),\n",
        "    keras.layers.Dense(10, activation='softmax')\n",
        "])\n",
        "\n",
        "# Biên dịch mô hình\n",
        "model.compile(optimizer='adam',\n",
        "              loss='sparse_categorical_crossentropy',\n",
        "              metrics=['accuracy'])\n",
        "\n",
        "# Huấn luyện mô hình\n",
        "model.fit(X_train_thresh_fashion, y_train_fashion, epochs=10, batch_size=32, validation_split=0.1)\n",
        "\n",
        "# Đánh giá mô hình trên tập kiểm tra\n",
        "test_loss, test_acc = model.evaluate(X_test_thresh_fashion, y_test_fashion)\n",
        "print('Test accuracy:', test_acc)\n"
      ],
      "metadata": {
        "colab": {
          "base_uri": "https://localhost:8080/"
        },
        "id": "89ZZ4fllHu2P",
        "outputId": "3f1f4e5d-deab-499e-b8fc-ce6f3de50c1e"
      },
      "execution_count": 17,
      "outputs": [
        {
          "output_type": "stream",
          "name": "stdout",
          "text": [
            "Epoch 1/10\n",
            "1688/1688 [==============================] - 7s 4ms/step - loss: 0.6306 - accuracy: 0.7735 - val_loss: 0.5474 - val_accuracy: 0.8072\n",
            "Epoch 2/10\n",
            "1688/1688 [==============================] - 5s 3ms/step - loss: 0.4819 - accuracy: 0.8225 - val_loss: 0.4994 - val_accuracy: 0.8217\n",
            "Epoch 3/10\n",
            "1688/1688 [==============================] - 6s 3ms/step - loss: 0.4332 - accuracy: 0.8392 - val_loss: 0.4913 - val_accuracy: 0.8232\n",
            "Epoch 4/10\n",
            "1688/1688 [==============================] - 5s 3ms/step - loss: 0.4002 - accuracy: 0.8504 - val_loss: 0.5064 - val_accuracy: 0.8185\n",
            "Epoch 5/10\n",
            "1688/1688 [==============================] - 5s 3ms/step - loss: 0.3694 - accuracy: 0.8620 - val_loss: 0.4899 - val_accuracy: 0.8248\n",
            "Epoch 6/10\n",
            "1688/1688 [==============================] - 6s 4ms/step - loss: 0.3470 - accuracy: 0.8696 - val_loss: 0.5222 - val_accuracy: 0.8250\n",
            "Epoch 7/10\n",
            "1688/1688 [==============================] - 5s 3ms/step - loss: 0.3229 - accuracy: 0.8792 - val_loss: 0.5096 - val_accuracy: 0.8283\n",
            "Epoch 8/10\n",
            "1688/1688 [==============================] - 6s 3ms/step - loss: 0.3043 - accuracy: 0.8856 - val_loss: 0.5300 - val_accuracy: 0.8263\n",
            "Epoch 9/10\n",
            "1688/1688 [==============================] - 5s 3ms/step - loss: 0.2901 - accuracy: 0.8911 - val_loss: 0.5332 - val_accuracy: 0.8312\n",
            "Epoch 10/10\n",
            "1688/1688 [==============================] - 5s 3ms/step - loss: 0.2704 - accuracy: 0.8977 - val_loss: 0.5712 - val_accuracy: 0.8188\n",
            "313/313 [==============================] - 1s 2ms/step - loss: 0.5607 - accuracy: 0.8200\n",
            "Test accuracy: 0.8199999928474426\n"
          ]
        }
      ]
    },
    {
      "cell_type": "code",
      "source": [
        "\n",
        "\n"
      ],
      "metadata": {
        "id": "AwIDrXYojP4d"
      },
      "execution_count": null,
      "outputs": []
    }
  ]
}